{
 "cells": [
  {
   "cell_type": "markdown",
   "metadata": {},
   "source": [
    "# Chetverikov/Shang HW 2\n",
    "## Sam Borghese"
   ]
  },
  {
   "cell_type": "code",
   "execution_count": 1,
   "metadata": {},
   "outputs": [],
   "source": [
    "import numpy as np\n",
    "from sklearn import datasets\n",
    "import sklearn\n",
    "from sklearn.linear_model import LinearRegression\n",
    "import matplotlib.pyplot as plt\n",
    "boston = datasets.load_boston()\n",
    "labels = boston.feature_names\n",
    "X = boston.data \n",
    "Y = boston.target"
   ]
  },
  {
   "cell_type": "markdown",
   "metadata": {},
   "source": [
    "# As a function"
   ]
  },
  {
   "cell_type": "code",
   "execution_count": 2,
   "metadata": {},
   "outputs": [],
   "source": [
    "def ForwardSelection(X,Y,labels):\n",
    "    labels_small = labels\n",
    "    X_small = X\n",
    "    while len(labels_small) !=0: # run until all variables are selected\n",
    "        MSEs = []\n",
    "        if len(labels_small) == len(labels): #check to see if it the first variable removed\n",
    "            for i in range(len(labels_small)):  # Here I replicate what was seen above to slect the first variable\n",
    "                reg = LinearRegression() \n",
    "                x_alt = X_small[:,i].reshape(-1, 1) \n",
    "                reg.fit(x_alt,Y)        \n",
    "                MSE = sklearn.metrics.mean_squared_error(Y, reg.predict(x_alt)) #Checks the fitted values against the true\n",
    "                MSEs.append(MSE)\n",
    "            I = MSEs.index(min(MSEs)) \n",
    "            ordered_vars = [labels_small[I]] # Variables in order selected by FS\n",
    "            ordered_X = X[:,I].reshape(-1,1)  # X columns to correspond\n",
    "            labels_small = np.delete(labels_small, I, axis=None) \n",
    "            X_small = np.delete(X, I, axis=1) \n",
    "            MinMSEs = [MSEs[I]]  # store the minimum MSE just for fun\n",
    "\n",
    "\n",
    "\n",
    "        else:\n",
    "            for i in range(len(labels_small)): \n",
    "                reg = LinearRegression() \n",
    "                x_alt = np.concatenate((ordered_X, X_small[:,i].reshape(-1, 1)), axis=1) #Include the previously selected variables\n",
    "                reg.fit(x_alt,Y)        \n",
    "                MSE = sklearn.metrics.mean_squared_error(Y, reg.predict(x_alt)) \n",
    "                MSEs.append(MSE)\n",
    "            I = MSEs.index(min(MSEs)) \n",
    "            ordered_vars.append( labels_small[I])\n",
    "            labels_small = np.delete(labels_small, I, axis=None)\n",
    "            ordered_X = np.concatenate((ordered_X, X_small[:,I].reshape(-1,1)), axis=1)\n",
    "            X_small = np.delete(X, I, axis=1)\n",
    "            MinMSEs.append(MSEs[I])\n",
    "            \n",
    "    for i in range(1,len(ordered_vars)+1): #output the Results\n",
    "        print(\"For\", i, \"variables FS choice,\",ordered_vars[:i] )\n",
    "    \n",
    "    return(MinMSEs, ordered_vars) "
   ]
  },
  {
   "cell_type": "markdown",
   "metadata": {},
   "source": [
    "# Results"
   ]
  },
  {
   "cell_type": "code",
   "execution_count": 3,
   "metadata": {},
   "outputs": [
    {
     "name": "stdout",
     "output_type": "stream",
     "text": [
      "For 1 variables FS choice, ['LSTAT']\n",
      "For 2 variables FS choice, ['LSTAT', 'RM']\n",
      "For 3 variables FS choice, ['LSTAT', 'RM', 'PTRATIO']\n",
      "For 4 variables FS choice, ['LSTAT', 'RM', 'PTRATIO', 'RAD']\n",
      "For 5 variables FS choice, ['LSTAT', 'RM', 'PTRATIO', 'RAD', 'NOX']\n",
      "For 6 variables FS choice, ['LSTAT', 'RM', 'PTRATIO', 'RAD', 'NOX', 'CHAS']\n",
      "For 7 variables FS choice, ['LSTAT', 'RM', 'PTRATIO', 'RAD', 'NOX', 'CHAS', 'ZN']\n",
      "For 8 variables FS choice, ['LSTAT', 'RM', 'PTRATIO', 'RAD', 'NOX', 'CHAS', 'ZN', 'CRIM']\n",
      "For 9 variables FS choice, ['LSTAT', 'RM', 'PTRATIO', 'RAD', 'NOX', 'CHAS', 'ZN', 'CRIM', 'AGE']\n",
      "For 10 variables FS choice, ['LSTAT', 'RM', 'PTRATIO', 'RAD', 'NOX', 'CHAS', 'ZN', 'CRIM', 'AGE', 'INDUS']\n",
      "For 11 variables FS choice, ['LSTAT', 'RM', 'PTRATIO', 'RAD', 'NOX', 'CHAS', 'ZN', 'CRIM', 'AGE', 'INDUS', 'DIS']\n",
      "For 12 variables FS choice, ['LSTAT', 'RM', 'PTRATIO', 'RAD', 'NOX', 'CHAS', 'ZN', 'CRIM', 'AGE', 'INDUS', 'DIS', 'B']\n",
      "For 13 variables FS choice, ['LSTAT', 'RM', 'PTRATIO', 'RAD', 'NOX', 'CHAS', 'ZN', 'CRIM', 'AGE', 'INDUS', 'DIS', 'B', 'TAX']\n"
     ]
    }
   ],
   "source": [
    "(mse, ordered_vars)= ForwardSelection(X,Y,labels)"
   ]
  },
  {
   "cell_type": "code",
   "execution_count": 4,
   "metadata": {},
   "outputs": [
    {
     "data": {
      "image/png": "[encoded data removed]",
      "text/plain": [
       "<Figure size 864x432 with 1 Axes>"
      ]
     },
     "metadata": {
      "needs_background": "light"
     },
     "output_type": "display_data"
    }
   ],
   "source": [
    "plt.rcParams['figure.figsize'] = (12, 6)\n",
    "plt.plot(mse)\n",
    "plt.xticks(ticks= range(13), labels= ordered_vars)\n",
    "plt.ylabel(\"Mean Squared Error\")\n",
    "plt.xlabel(\"Additional Variable included\")\n",
    "plt.title(\"MSE of subsequent Forward Selection\")\n",
    "plt.show()"
   ]
  }
 ],
 "metadata": {
  "kernelspec": {
   "display_name": "Python 3",
   "language": "python",
   "name": "python3"
  },
  "language_info": {
   "codemirror_mode": {
    "name": "ipython",
    "version": 3
   },
   "file_extension": ".py",
   "mimetype": "text/x-python",
   "name": "python",
   "nbconvert_exporter": "python",
   "pygments_lexer": "ipython3",
   "version": "3.7.3"
  }
 },
 "nbformat": 4,
 "nbformat_minor": 2
}
